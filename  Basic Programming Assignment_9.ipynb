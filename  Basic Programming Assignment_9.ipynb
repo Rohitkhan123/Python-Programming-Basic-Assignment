{
 "cells": [
  {
   "cell_type": "markdown",
   "id": "eff3e7b5",
   "metadata": {},
   "source": [
    "#### 1. Write a Python program to check if the given number is a Disarium Number?"
   ]
  },
  {
   "cell_type": "code",
   "execution_count": 4,
   "id": "e3dfea91",
   "metadata": {},
   "outputs": [
    {
     "name": "stdout",
     "output_type": "stream",
     "text": [
      "Enter number: 89\n",
      "89 is a Disarium number\n"
     ]
    }
   ],
   "source": [
    "n= int(input('Enter number: '))\n",
    "temp=n\n",
    "count=0\n",
    "x=n\n",
    "while temp>0:\n",
    "    temp=temp//10\n",
    "    count=count+1\n",
    "sum=0\n",
    "while x>0:\n",
    "    rem=x%10\n",
    "    sum=sum + rem**count\n",
    "    x=x//10\n",
    "    count=count-1\n",
    "if sum==n:\n",
    "    print(n,\"is a Disarium number\")\n",
    "else:\n",
    "    print(n,\"is not disarium number\")"
   ]
  },
  {
   "cell_type": "markdown",
   "id": "a524bab0",
   "metadata": {},
   "source": [
    "#### 3. Write a Python program to check if the given number is Happy Number?"
   ]
  },
  {
   "cell_type": "code",
   "execution_count": 23,
   "id": "3c9f4eda",
   "metadata": {},
   "outputs": [
    {
     "name": "stdout",
     "output_type": "stream",
     "text": [
      "Enter your number100\n",
      "100 is happy number\n"
     ]
    }
   ],
   "source": [
    "def cheak_happy(n):\n",
    "    res=0\n",
    "    rem=0\n",
    "    while n>0:\n",
    "        rem= n%10\n",
    "        res=res+rem*rem\n",
    "        n=n//10\n",
    "    return res\n",
    "n=int(input(\"Enter your number\"))\n",
    "result=n\n",
    "while result!=1 and result != 4:\n",
    "    result =cheak_happy(result)\n",
    "if result==1:\n",
    "    print(n,'is happy number')\n",
    "else:\n",
    "     print(n,'is not happy number')"
   ]
  },
  {
   "cell_type": "markdown",
   "id": "ad3eb7e5",
   "metadata": {},
   "source": [
    "#### 4. Write a Python program to print all happy numbers between 1 and 100?"
   ]
  },
  {
   "cell_type": "code",
   "execution_count": 30,
   "id": "6c236959",
   "metadata": {},
   "outputs": [
    {
     "name": "stdout",
     "output_type": "stream",
     "text": [
      "List of happy numbers between 1 and 100: \n",
      "1, 7, 10, 13, 19, 23, 28, 31, 32, 44, 49, 68, 70, 79, 82, 86, 91, 94, 97, 100, "
     ]
    }
   ],
   "source": [
    "def isHappyNumber(num):  \n",
    "    rem = sum = 0;  \n",
    "      \n",
    "    while(num > 0):  \n",
    "        rem = num%10;  \n",
    "        sum = sum + (rem*rem);  \n",
    "        num = num//10;  \n",
    "    return sum;  \n",
    "          \n",
    "print(\"List of happy numbers between 1 and 100: \");  \n",
    "for i in range(1, 101):  \n",
    "    result = i;  \n",
    " \n",
    "    while(result != 1 and result != 4):  \n",
    "        result = isHappyNumber(result);  \n",
    "      \n",
    "    if(result == 1):  \n",
    "        print(i,end=', ')  "
   ]
  },
  {
   "cell_type": "markdown",
   "id": "e11cbba1",
   "metadata": {},
   "source": [
    "#### 5. Write a Python program to determine whether the given number is a Harshad Number?"
   ]
  },
  {
   "cell_type": "code",
   "execution_count": 13,
   "id": "b111a3b3",
   "metadata": {},
   "outputs": [
    {
     "name": "stdout",
     "output_type": "stream",
     "text": [
      "Enter number: 24\n",
      "24 is harshad number\n"
     ]
    }
   ],
   "source": [
    "n=int(input('Enter number: '))\n",
    "x=n\n",
    "sum=0\n",
    "while x>0:\n",
    "    r=x%10\n",
    "    sum=sum+r\n",
    "    x=x//10\n",
    "if n%sum==0:\n",
    "    print(n,'is harshad number')\n",
    "else:\n",
    "    print(n,'is not harshad number')\n",
    "\n",
    "    "
   ]
  },
  {
   "cell_type": "code",
   "execution_count": 24,
   "id": "7b47c59d",
   "metadata": {},
   "outputs": [
    {
     "name": "stdout",
     "output_type": "stream",
     "text": [
      "Pronic numbers between 1 and 100: \n",
      "2 6 12 20 30 42 56 72 90 "
     ]
    }
   ],
   "source": [
    "def isPronicNumber(num):    \n",
    "    flag = False;    \n",
    "        \n",
    "    for j in range(1, num+1):       \n",
    "        if((j*(j+1)) == num):    \n",
    "            flag = True;    \n",
    "            break;    \n",
    "    return flag;    \n",
    "     \n",
    "#Displays pronic numbers between 1 and 100    \n",
    "print(\"Pronic numbers between 1 and 100: \");    \n",
    "for i in range(1, 101):    \n",
    "    if(isPronicNumber(i)):    \n",
    "        print(i,end=' ')"
   ]
  },
  {
   "cell_type": "code",
   "execution_count": null,
   "id": "03b0d4f1",
   "metadata": {},
   "outputs": [],
   "source": []
  }
 ],
 "metadata": {
  "kernelspec": {
   "display_name": "Python 3 (ipykernel)",
   "language": "python",
   "name": "python3"
  },
  "language_info": {
   "codemirror_mode": {
    "name": "ipython",
    "version": 3
   },
   "file_extension": ".py",
   "mimetype": "text/x-python",
   "name": "python",
   "nbconvert_exporter": "python",
   "pygments_lexer": "ipython3",
   "version": "3.9.7"
  }
 },
 "nbformat": 4,
 "nbformat_minor": 5
}
