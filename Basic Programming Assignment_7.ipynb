{
 "cells": [
  {
   "cell_type": "markdown",
   "id": "20394cea",
   "metadata": {},
   "source": [
    "## Assignment 7"
   ]
  },
  {
   "cell_type": "markdown",
   "id": "e7033928",
   "metadata": {},
   "source": [
    "##### 1. Write a Python Program to find sum of Array ?"
   ]
  },
  {
   "cell_type": "code",
   "execution_count": 7,
   "id": "d9b3088c",
   "metadata": {},
   "outputs": [
    {
     "name": "stdout",
     "output_type": "stream",
     "text": [
      "entre your element do you want ro add:5\n",
      "Enter your values:1\n",
      "Enter your values:2\n",
      "Enter your values:3\n",
      "Enter your values:4\n",
      "Enter your values:5\n",
      "sum of array 15\n"
     ]
    }
   ],
   "source": [
    "def sumOfArray():\n",
    "    a=[]\n",
    "    size=int(input(\"entre your element do you want ro add:\"))\n",
    "    for i in range(size):\n",
    "        val=int(input(\"Enter your values:\"))\n",
    "        a.append(val)\n",
    "    sum=0\n",
    "    for i in range(size):\n",
    "        sum=sum+a[i]\n",
    "    print('sum of array',sum)\n",
    "sumOfArray()"
   ]
  },
  {
   "cell_type": "markdown",
   "id": "f6161e66",
   "metadata": {},
   "source": [
    "##### 2. Write a Python Program to find Largest element in an Array ?"
   ]
  },
  {
   "cell_type": "code",
   "execution_count": 25,
   "id": "548a15f3",
   "metadata": {},
   "outputs": [
    {
     "name": "stdout",
     "output_type": "stream",
     "text": [
      "Enter your size of number 5\n",
      "Enter your values:5\n",
      "Enter your values:22\n",
      "Enter your values:32\n",
      "Enter your values:12\n",
      "Enter your values:34\n",
      "max value is  34\n"
     ]
    }
   ],
   "source": [
    "def largestNum():\n",
    "    a=[]\n",
    "    size=int(input(\"Enter your size of number \"))\n",
    "    for i in range(size):\n",
    "        val=int(input(\"Enter your values:\"))\n",
    "        a.append(val)\n",
    "        max=a[0]\n",
    "        if a[i]>max:\n",
    "            max=a[i]\n",
    "    print(\"max value is \",max)\n",
    "largestNum()"
   ]
  },
  {
   "cell_type": "markdown",
   "id": "e3ad8039",
   "metadata": {},
   "source": [
    "#### 3. Write a Python Program for array rotation ?"
   ]
  },
  {
   "cell_type": "code",
   "execution_count": 10,
   "id": "f44150b0",
   "metadata": {},
   "outputs": [
    {
     "name": "stdout",
     "output_type": "stream",
     "text": [
      "Length of array: 5\n",
      "Enter your Element2\n",
      "Enter your Element3\n",
      "Enter your Element4\n",
      "Enter your Element5\n",
      "Enter your Element6\n",
      "original array: [2, 3, 4, 5, 6] and \n",
      " rotated array is: [6, 5, 4, 3, 2]\n"
     ]
    }
   ],
   "source": [
    "array = []\n",
    "size = int(input(\"Length of array: \"))\n",
    "for i in range(size):\n",
    "    elements = int(input(\"Enter your Element\"))\n",
    "    array.append(elements)\n",
    "    \n",
    "print(\"original array: {} and \\n rotated array is: {}\".format(array,array[::-1]))"
   ]
  },
  {
   "cell_type": "markdown",
   "id": "b68f1245",
   "metadata": {},
   "source": [
    "##### 4. Write a Python Program to Split the array and add the first part to the end ?"
   ]
  },
  {
   "cell_type": "code",
   "execution_count": 11,
   "id": "6d06b704",
   "metadata": {},
   "outputs": [
    {
     "name": "stdout",
     "output_type": "stream",
     "text": [
      "Length of array: 5\n",
      "5\n",
      "4\n",
      "3\n",
      "2\n",
      "1\n",
      "[5, 4, 3, 2, 1]\n",
      "splitted part is:  [5, 4]\n",
      "after spliting remaining array is:  [3, 2, 1]\n",
      "Final Array:  [3, 2, 1, 5, 4]\n"
     ]
    }
   ],
   "source": [
    "array = []\n",
    "size = int(input(\"Length of array: \"))\n",
    "for i in range(size):\n",
    "    elements = int(input())\n",
    "    array.append(elements)\n",
    "print(array)\n",
    "\n",
    "mid = size//2\n",
    "\n",
    "split = array[:mid]\n",
    "print(\"splitted part is: \",split)\n",
    "\n",
    "array = array[mid:]\n",
    "print(\"after spliting remaining array is: \",array)\n",
    "\n",
    "array = array+split\n",
    "print(\"Final Array: \",array)"
   ]
  },
  {
   "cell_type": "markdown",
   "id": "5a239e39",
   "metadata": {},
   "source": [
    "##### 5. Write a Python Program to check if given array is Monotonic?"
   ]
  },
  {
   "cell_type": "code",
   "execution_count": 25,
   "id": "79ebeab1",
   "metadata": {},
   "outputs": [
    {
     "name": "stdout",
     "output_type": "stream",
     "text": [
      "Enter the Array: 5,4,3,2,1\n",
      "Array (5, 4, 3, 2, 1) is Monotonic\n",
      "Enter the Array: 3,5,6,3,2,1\n",
      "Array (3, 5, 6, 3, 2, 1) is Not Monotonic\n"
     ]
    }
   ],
   "source": [
    "def checkMonotonic():\n",
    "    in_arr = eval(input(\"Enter the Array: \"))\n",
    "    if(all(in_arr[i]<=in_arr[i+1] for i in range(len(in_arr)-1)) or all(in_arr[i]>=in_arr[i+1] for i in range(len(in_arr)-1))):\n",
    "        print(f'Array {in_arr} is Monotonic')\n",
    "    else:\n",
    "        print(f'Array {in_arr} is Not Monotonic')\n",
    "\n",
    "checkMonotonic()\n",
    "checkMonotonic()"
   ]
  }
 ],
 "metadata": {
  "kernelspec": {
   "display_name": "Python 3 (ipykernel)",
   "language": "python",
   "name": "python3"
  },
  "language_info": {
   "codemirror_mode": {
    "name": "ipython",
    "version": 3
   },
   "file_extension": ".py",
   "mimetype": "text/x-python",
   "name": "python",
   "nbconvert_exporter": "python",
   "pygments_lexer": "ipython3",
   "version": "3.9.7"
  }
 },
 "nbformat": 4,
 "nbformat_minor": 5
}
