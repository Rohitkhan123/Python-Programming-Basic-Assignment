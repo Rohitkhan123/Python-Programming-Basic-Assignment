{
 "cells": [
  {
   "cell_type": "markdown",
   "id": "71489da6",
   "metadata": {},
   "source": [
    "### 1. Write a Python program to find words which are greater than given length k?"
   ]
  },
  {
   "cell_type": "code",
   "execution_count": 1,
   "id": "aae1eeb6",
   "metadata": {},
   "outputs": [
    {
     "name": "stdout",
     "output_type": "stream",
     "text": [
      "['hello', 'python', 'science']\n"
     ]
    }
   ],
   "source": [
    "sentence = \"hello python is also good for data science\"\n",
    "length = 4\n",
    "print([word for word in sentence.split() if len(word) > length])"
   ]
  },
  {
   "cell_type": "markdown",
   "id": "fba62108",
   "metadata": {},
   "source": [
    "### 2. Write a Python program for removing i-th character from a string?"
   ]
  },
  {
   "cell_type": "code",
   "execution_count": 2,
   "id": "60878a28",
   "metadata": {},
   "outputs": [
    {
     "name": "stdout",
     "output_type": "stream",
     "text": [
      "DataSience\n"
     ]
    }
   ],
   "source": [
    "def remove(string, i): \n",
    "    a = string[ : i] \n",
    "    b = string[i + 1:]\n",
    "      \n",
    "    return a + b\n",
    "if __name__ == '__main__':\n",
    "      \n",
    "    string = \"DataSCience\"\n",
    "    i = 5\n",
    "    print(remove(string, i))"
   ]
  },
  {
   "cell_type": "markdown",
   "id": "648d91d9",
   "metadata": {},
   "source": [
    "### 3. Write a Python program to split and join a string?"
   ]
  },
  {
   "cell_type": "code",
   "execution_count": 15,
   "id": "ae0d8a6c",
   "metadata": {},
   "outputs": [
    {
     "name": "stdout",
     "output_type": "stream",
     "text": [
      "r-o-h-i-t- -k-h-a-n\n",
      "['rohit', 'khan']\n"
     ]
    }
   ],
   "source": [
    "def splitt(s):\n",
    "    st=s.split(' ')\n",
    "    return st\n",
    "\n",
    "\n",
    "def jo_in(s):\n",
    "    st='-'.join(s)\n",
    "    return st\n",
    "if __name__=='__main__':\n",
    "    s='rohit khan'\n",
    "    \n",
    "    nw=jo_in(s)\n",
    "    print(nw)\n",
    "    \n",
    "    st=splitt(s)\n",
    "    print(st)\n",
    "    \n",
    "   "
   ]
  },
  {
   "cell_type": "markdown",
   "id": "1d46a265",
   "metadata": {},
   "source": [
    "### 4. Write a Python to check if a given string is binary string or not?"
   ]
  },
  {
   "cell_type": "code",
   "execution_count": 3,
   "id": "8e3cdf0a",
   "metadata": {},
   "outputs": [
    {
     "name": "stdout",
     "output_type": "stream",
     "text": [
      "Yes\n"
     ]
    }
   ],
   "source": [
    "\n",
    "def check(string):\n",
    "\n",
    "    p = set(string)\n",
    " \n",
    "    s = {'0', '1'}\n",
    "\n",
    "    if s == p or p == {'0'} or p == {'1'}:\n",
    "        print(\"Yes\")\n",
    "    else:\n",
    "        print(\"No\")\n",
    "\n",
    "if __name__ == \"__main__\":\n",
    " \n",
    "    string = \"101010000111\"\n",
    "\n",
    "    check(string)"
   ]
  },
  {
   "cell_type": "markdown",
   "id": "f198ac0e",
   "metadata": {},
   "source": [
    "### 5. Write a Python program to find uncommon words from two Strings?"
   ]
  },
  {
   "cell_type": "code",
   "execution_count": 19,
   "id": "1a31901d",
   "metadata": {},
   "outputs": [
    {
     "name": "stdout",
     "output_type": "stream",
     "text": [
      "['peach', 'mango']\n"
     ]
    }
   ],
   "source": [
    "def uncommon(s1,s2):\n",
    "    s1=s1.split()\n",
    "    s2=s2.split()\n",
    "    k=set(s1).symmetric_difference(set(s2))\n",
    "    return k\n",
    "\n",
    "a = \"berry mango cherry\"\n",
    "b = \"berry peach cherry\"\n",
    "print(list(uncommon(a,b)))"
   ]
  },
  {
   "cell_type": "markdown",
   "id": "bf857000",
   "metadata": {},
   "source": [
    "### 6. Write a Python to find all duplicate characters in string?"
   ]
  },
  {
   "cell_type": "code",
   "execution_count": null,
   "id": "886dedd1",
   "metadata": {},
   "outputs": [],
   "source": [
    "from collections import Counter\n",
    "words=input('enter string')\n",
    "wlen=Counter(words)\n",
    "for k,v in wlen.items():\n",
    "    if v>1:\n",
    "        print(f'duplicates char is {v}')"
   ]
  },
  {
   "cell_type": "markdown",
   "id": "73a4b0fb",
   "metadata": {},
   "source": [
    "### 7. Write a Python Program to check if a string contains any special character?"
   ]
  },
  {
   "cell_type": "code",
   "execution_count": 12,
   "id": "05e8acdd",
   "metadata": {},
   "outputs": [
    {
     "name": "stdout",
     "output_type": "stream",
     "text": [
      "enter your string:\n",
      "rohit_khqn-\n",
      "yes\n"
     ]
    }
   ],
   "source": [
    "string=input('enter your string:\\n')\n",
    "symbols = {'~', ':', \"'\", '+', '[', '\\\\', '@', '^', '{', '%', '(', '-', '\"', '*', '|', ',', '&', '<', '`', '}', '.', '_', '=', ']', '!', '>', ';', '?', '#', '$', ')', '/'}\n",
    "c=0\n",
    "for i in range(len(string)):\n",
    "    if string[i] in symbols:\n",
    "        c+=1\n",
    "if c:\n",
    "    print('yes')\n",
    "else:\n",
    "    print('no')"
   ]
  },
  {
   "cell_type": "code",
   "execution_count": null,
   "id": "233cd4ec",
   "metadata": {},
   "outputs": [],
   "source": []
  },
  {
   "cell_type": "code",
   "execution_count": null,
   "id": "57567d24",
   "metadata": {},
   "outputs": [],
   "source": []
  }
 ],
 "metadata": {
  "kernelspec": {
   "display_name": "Python 3 (ipykernel)",
   "language": "python",
   "name": "python3"
  },
  "language_info": {
   "codemirror_mode": {
    "name": "ipython",
    "version": 3
   },
   "file_extension": ".py",
   "mimetype": "text/x-python",
   "name": "python",
   "nbconvert_exporter": "python",
   "pygments_lexer": "ipython3",
   "version": "3.9.13"
  }
 },
 "nbformat": 4,
 "nbformat_minor": 5
}
