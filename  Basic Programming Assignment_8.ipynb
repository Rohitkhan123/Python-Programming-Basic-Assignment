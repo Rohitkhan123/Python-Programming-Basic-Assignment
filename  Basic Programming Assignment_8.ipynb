{
 "cells": [
  {
   "cell_type": "markdown",
   "id": "1ebac776",
   "metadata": {},
   "source": [
    "### assignment 8"
   ]
  },
  {
   "cell_type": "markdown",
   "id": "3655b992",
   "metadata": {},
   "source": [
    "##### 1. Write a Python Program to Add Two Matrices?"
   ]
  },
  {
   "cell_type": "code",
   "execution_count": 1,
   "id": "ca871568",
   "metadata": {},
   "outputs": [
    {
     "name": "stdout",
     "output_type": "stream",
     "text": [
      "[5, 8, 7]\n",
      "[5, 5, 9]\n",
      "[13, 11, 7]\n"
     ]
    }
   ],
   "source": [
    "A=[[1,2,3],\n",
    "  [4,3,6],\n",
    "  [7,6,4]]\n",
    "\n",
    "\n",
    "B=[[4,6,4],\n",
    "  [1,2,3],\n",
    "  [6,5,3]]\n",
    "\n",
    "result=[[0,0,0],\n",
    "       [0,0,0],\n",
    "       [0,0,0]]\n",
    "\n",
    "for i in range(len(A)):\n",
    "    for j in range(len(A[0])):\n",
    "        result[i][j]=A[i][j] + B[i][j]\n",
    "\n",
    "for res in result:\n",
    "    print(res)\n",
    "    "
   ]
  },
  {
   "cell_type": "markdown",
   "id": "dd148571",
   "metadata": {},
   "source": [
    "#### 2. Write a Python Program to Multiply Two Matrices?"
   ]
  },
  {
   "cell_type": "code",
   "execution_count": 2,
   "id": "9439ca76",
   "metadata": {},
   "outputs": [
    {
     "name": "stdout",
     "output_type": "stream",
     "text": [
      "[4, 12, 12]\n",
      "[4, 6, 18]\n",
      "[42, 30, 12]\n"
     ]
    }
   ],
   "source": [
    "A=[[1,2,3],\n",
    "  [4,3,6],\n",
    "  [7,6,4]]\n",
    "\n",
    "\n",
    "B=[[4,6,4],\n",
    "  [1,2,3],\n",
    "  [6,5,3]]\n",
    "\n",
    "result=[[0,0,0],\n",
    "       [0,0,0],\n",
    "       [0,0,0]]\n",
    "\n",
    "for i in range(len(A)):\n",
    "    for j in range(len(A[0])):\n",
    "        result[i][j]=A[i][j] * B[i][j]\n",
    "\n",
    "for res in result:\n",
    "    print(res)\n",
    "    "
   ]
  },
  {
   "cell_type": "markdown",
   "id": "c0c94c4c",
   "metadata": {},
   "source": [
    "#### 3. Write a Python Program to Transpose a Matrix?"
   ]
  },
  {
   "cell_type": "code",
   "execution_count": 3,
   "id": "6e523bce",
   "metadata": {},
   "outputs": [
    {
     "name": "stdout",
     "output_type": "stream",
     "text": [
      "[2, 3]\n",
      "[3, 2]\n",
      "[4, 1]\n"
     ]
    }
   ],
   "source": [
    "A=[[2,3,4],\n",
    "  [3,2,1]]\n",
    "\n",
    "T=[[0,0],\n",
    "  [0,0],\n",
    "  [0,0]]\n",
    "\n",
    "for i in range(len(A)):\n",
    "    for j in range(len(A[0])):\n",
    "        T[j][i]=A[i][j]\n",
    "\n",
    "for i in T:\n",
    "    print(i)"
   ]
  },
  {
   "cell_type": "markdown",
   "id": "a23daf64",
   "metadata": {},
   "source": [
    "#### 4. Write a Python Program to Sort Words in Alphabetic Order?"
   ]
  },
  {
   "cell_type": "code",
   "execution_count": 5,
   "id": "45842046",
   "metadata": {},
   "outputs": [
    {
     "name": "stdout",
     "output_type": "stream",
     "text": [
      "Enter your string: Zoo IS The best PlAce for AnimaLs\n",
      "['zoo', 'is', 'the', 'best', 'place', 'for', 'animals'] \n",
      "\n",
      "animals best for is place the zoo "
     ]
    }
   ],
   "source": [
    "A=input(\"Enter your string: \")\n",
    "\n",
    "st=(A).split()\n",
    "for i in range(len(st)):\n",
    "    st[i]=st[i].lower()\n",
    "print(st,'\\n')\n",
    "st.sort()\n",
    "for i in st:\n",
    "    print(i,end=' ')"
   ]
  },
  {
   "cell_type": "code",
   "execution_count": 13,
   "id": "5c4d613e",
   "metadata": {},
   "outputs": [
    {
     "name": "stdout",
     "output_type": "stream",
     "text": [
      "Enter your string:  Rohit@@ khan*@()@*#.\n",
      "  Rohit khan\n"
     ]
    }
   ],
   "source": [
    "pun='''!\"#$%&'()*+,-./:;?@[\\]^_`{|}~'''\n",
    "\n",
    "w=input('Enter your string: ')\n",
    "empty=\" \"\n",
    "for i in w:\n",
    "    if i in pun:\n",
    "        continue\n",
    "    empty+=i\n",
    "print(empty)"
   ]
  }
 ],
 "metadata": {
  "kernelspec": {
   "display_name": "Python 3 (ipykernel)",
   "language": "python",
   "name": "python3"
  },
  "language_info": {
   "codemirror_mode": {
    "name": "ipython",
    "version": 3
   },
   "file_extension": ".py",
   "mimetype": "text/x-python",
   "name": "python",
   "nbconvert_exporter": "python",
   "pygments_lexer": "ipython3",
   "version": "3.9.7"
  }
 },
 "nbformat": 4,
 "nbformat_minor": 5
}
