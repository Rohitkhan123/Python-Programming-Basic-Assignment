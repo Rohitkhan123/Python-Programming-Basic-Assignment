{
 "cells": [
  {
   "cell_type": "markdown",
   "id": "4eca98b3",
   "metadata": {},
   "source": [
    "### assignment 5"
   ]
  },
  {
   "cell_type": "markdown",
   "id": "03098739",
   "metadata": {},
   "source": [
    "##### 1. Write a Python Program to find LCM ? \n",
    "\n"
   ]
  },
  {
   "cell_type": "code",
   "execution_count": 9,
   "id": "305127d7",
   "metadata": {},
   "outputs": [
    {
     "name": "stdout",
     "output_type": "stream",
     "text": [
      "Enter first number: 6\n",
      "Enter second number: 10\n",
      "your 6 and10 Lcm is 30\n"
     ]
    }
   ],
   "source": [
    "a=int(input(\"Enter first number: \"))\n",
    "b=int(input(\"Enter second number: \"))\n",
    "maxNum=max(a,b)\n",
    "while(True):\n",
    "    if maxNum%a==0 and maxNum%b==0:\n",
    "        break\n",
    "    maxNum+=1\n",
    "print(f\"your {a} and{b} Lcm is {maxNum}\")"
   ]
  },
  {
   "cell_type": "markdown",
   "id": "e8834eb9",
   "metadata": {},
   "source": [
    "##### 2. Write a Python Program to find HCF ?"
   ]
  },
  {
   "cell_type": "code",
   "execution_count": 2,
   "id": "b4ddf793",
   "metadata": {},
   "outputs": [
    {
     "name": "stdout",
     "output_type": "stream",
     "text": [
      "Enetr first number:\n",
      "12\n",
      "Enetr second number:\n",
      "22\n",
      "The hcf of these two no. is: 2\n"
     ]
    }
   ],
   "source": [
    "num1=int(input(\"Enetr first number:\\n\"))\n",
    "num2=int(input(\"Enetr second number:\\n\"))\n",
    "if num1<num2:\n",
    "    mn=num1\n",
    "else:\n",
    "    mn=num2\n",
    "for i in range(1,mn+1):\n",
    "    if num1%i==0 and num2%i==0:\n",
    "        hcf=i\n",
    "print(\"The hcf of these two no. is:\",hcf)\n",
    "    "
   ]
  },
  {
   "cell_type": "markdown",
   "id": "855100d6",
   "metadata": {},
   "source": [
    " ##### 3. Write a Python Program to Convert Decimal to Binary, Octal and Hexadecimal ?"
   ]
  },
  {
   "cell_type": "code",
   "execution_count": 4,
   "id": "738ebe45",
   "metadata": {},
   "outputs": [
    {
     "name": "stdout",
     "output_type": "stream",
     "text": [
      "Enter your decimal number: 117\n",
      "The binary no. is 0b1110101\n",
      "The octal no. is 0o165\n",
      "The hexadecimal no. is 0x75\n"
     ]
    }
   ],
   "source": [
    "n=int(input(\"Enter your decimal number: \"))\n",
    "print(f\"The binary no. is {bin (n)}\")\n",
    "print(f\"The octal no. is {oct (n)}\")\n",
    "print(f\"The hexadecimal no. is {hex (n)}\")"
   ]
  },
  {
   "cell_type": "markdown",
   "id": "0206826f",
   "metadata": {},
   "source": [
    "##### 4. Write a Python Program to Find the ASCII value of a Character ?"
   ]
  },
  {
   "cell_type": "code",
   "execution_count": 2,
   "id": "38f0b17c",
   "metadata": {},
   "outputs": [
    {
     "name": "stdout",
     "output_type": "stream",
     "text": [
      "Enter your character\n",
      "g\n",
      "Your value is : 103\n"
     ]
    }
   ],
   "source": [
    "char=input(\"Enter your character\\n\")\n",
    "if len(char)>1:\n",
    "    print(\"Enter only single character :\")\n",
    "else:\n",
    "    print(\"Your value is :\",ord(char))"
   ]
  },
  {
   "cell_type": "markdown",
   "id": "5d4eb92b",
   "metadata": {},
   "source": [
    "##### 5. Write a Python Program to Make a Simple Calculator with 4 Basic Mathematical operations ?"
   ]
  },
  {
   "cell_type": "code",
   "execution_count": 11,
   "id": "cffb4d63",
   "metadata": {},
   "outputs": [
    {
     "name": "stdout",
     "output_type": "stream",
     "text": [
      "Enter your first number: 2\n",
      "Select operation :\n",
      " +, -, /, *, //, ** +\n",
      "Enter your second number: \n",
      "3\n",
      "your result is 5\n"
     ]
    }
   ],
   "source": [
    "num1=int(input(\"Enter your first number: \"))\n",
    "operator=input(\"Select operation :\\n +, -, /, *, //, ** \")\n",
    "num2=int(input(\"Enter your second number: \\n\"))\n",
    "if operator =='+':\n",
    "        print(f\"your result is {num1+num2}\")\n",
    "elif operator =='-':\n",
    "          print(f\"your result is {num1-num2}\")\n",
    "elif operator =='*':\n",
    "          print(f\"your result is {num1*num2}\")\n",
    "elif operator =='/':\n",
    "          print(f\"your result is {num1/num2}\")\n",
    "elif operator == '//':\n",
    "          print(f\"your result is {num1//num2}\")\n",
    "elif operator == '**':\n",
    "          print(f\"your result is {num1**num2}\")\n",
    "else:\n",
    "        print(\"Enter correct value: \")\n",
    "    \n"
   ]
  }
 ],
 "metadata": {
  "kernelspec": {
   "display_name": "Python 3 (ipykernel)",
   "language": "python",
   "name": "python3"
  },
  "language_info": {
   "codemirror_mode": {
    "name": "ipython",
    "version": 3
   },
   "file_extension": ".py",
   "mimetype": "text/x-python",
   "name": "python",
   "nbconvert_exporter": "python",
   "pygments_lexer": "ipython3",
   "version": "3.9.7"
  }
 },
 "nbformat": 4,
 "nbformat_minor": 5
}
