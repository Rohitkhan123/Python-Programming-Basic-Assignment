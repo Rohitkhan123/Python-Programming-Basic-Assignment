{
  "nbformat": 4,
  "nbformat_minor": 0,
  "metadata": {
    "colab": {
      "provenance": []
    },
    "kernelspec": {
      "name": "python3",
      "display_name": "Python 3"
    },
    "language_info": {
      "name": "python"
    }
  },
  "cells": [
    {
      "cell_type": "code",
      "execution_count": 2,
      "metadata": {
        "colab": {
          "base_uri": "https://localhost:8080/"
        },
        "id": "5Z7J5RkMBpiw",
        "outputId": "e9abc5df-7d06-4db9-b7a9-a2d3b30e2152"
      },
      "outputs": [
        {
          "output_type": "stream",
          "name": "stdout",
          "text": [
            "The original dictionary is : {'Python': [5, 6, 7, 8], 'is': [10, 11, 7, 5], 'best': [6, 12, 10, 8], 'lang': [1, 2, 5]}\n",
            "The unique values list is : [1, 2, 5, 6, 7, 8, 10, 11, 12]\n"
          ]
        }
      ],
      "source": [
        "#1. Write a Python program to Extract Unique values dictionary values?\n",
        "\n",
        "test_dict = {'Python': [5, 6, 7, 8],\n",
        "             'is': [10, 11, 7, 5],\n",
        "             'best': [6, 12, 10, 8],\n",
        "             'lang': [1, 2, 5]}\n",
        " \n",
        "print(\"The original dictionary is : \" + str(test_dict))\n",
        " \n",
        "res = list(sorted({ele for val in test_dict.values() for ele in val}))\n",
        "\n",
        "print(\"The unique values list is : \" + str(res))"
      ]
    },
    {
      "cell_type": "code",
      "source": [
        "#2. Write a Python program to find the sum of all items in a dictionary?\n",
        "def returnSum(myDict):\n",
        " \n",
        "    list = []\n",
        "    for i in myDict:\n",
        "        list.append(myDict[i])\n",
        "    final = sum(list)\n",
        " \n",
        "    return final\n",
        " \n",
        "dict = {'a': 100, 'b': 200, 'c': 300}\n",
        "print(\"Sum :\", returnSum(dict))"
      ],
      "metadata": {
        "colab": {
          "base_uri": "https://localhost:8080/"
        },
        "id": "a5oGg67aCySd",
        "outputId": "205ef777-1adb-47a7-c998-31fe7af23c82"
      },
      "execution_count": 3,
      "outputs": [
        {
          "output_type": "stream",
          "name": "stdout",
          "text": [
            "Sum : 600\n"
          ]
        }
      ]
    },
    {
      "cell_type": "code",
      "source": [
        "# 3. Write a Python program to Merging two Dictionaries?\n",
        "dict_1 = {1: 'a', 2: 'b'}\n",
        "dict_2 = {2: 'c', 4: 'd'}\n",
        "\n",
        "print(dict_1 | dict_2)"
      ],
      "metadata": {
        "colab": {
          "base_uri": "https://localhost:8080/"
        },
        "id": "rKp_iby3CyBU",
        "outputId": "8cc9f629-95cf-479d-97d7-6e801bcedee5"
      },
      "execution_count": 5,
      "outputs": [
        {
          "output_type": "stream",
          "name": "stdout",
          "text": [
            "{1: 'a', 2: 'c', 4: 'd'}\n"
          ]
        }
      ]
    },
    {
      "cell_type": "code",
      "source": [
        "#4. Write a Python program to convert key-values list to flat dictionary?\n",
        "\n",
        "test_dict = {'month' : [1, 2, 3],\n",
        "             'name' : ['Jan', 'Feb', 'March']}\n",
        " \n",
        "print(\"The original dictionary is : \" + str(test_dict))\n",
        "res = {}\n",
        "for i in range(len(test_dict['month'])):\n",
        "    res[test_dict['month'][i]] = test_dict['name'][i]\n",
        " \n",
        "print(\"Flattened dictionary : \" + str(res))"
      ],
      "metadata": {
        "colab": {
          "base_uri": "https://localhost:8080/"
        },
        "id": "JRskWq5rCx4j",
        "outputId": "178e7fa3-3380-4792-c0de-71c2784dcfb7"
      },
      "execution_count": 6,
      "outputs": [
        {
          "output_type": "stream",
          "name": "stdout",
          "text": [
            "The original dictionary is : {'month': [1, 2, 3], 'name': ['Jan', 'Feb', 'March']}\n",
            "Flattened dictionary : {1: 'Jan', 2: 'Feb', 3: 'March'}\n"
          ]
        }
      ]
    },
    {
      "cell_type": "code",
      "source": [
        "#5. Write a Python program to insertion at the beginning in OrderedDict?\n",
        "from collections import OrderedDict\n",
        " \n",
        "ini_dict1 = OrderedDict([('akshat', '1'), ('nikhil', '2')])\n",
        "ini_dict2 = OrderedDict([(\"manjeet\", '4'), (\"akash\", '4')])\n",
        " \n",
        "both = OrderedDict(list(ini_dict2.items()) + list(ini_dict1.items()))\n",
        " \n",
        "print (\"Resultant Dictionary :\"+str(both))"
      ],
      "metadata": {
        "colab": {
          "base_uri": "https://localhost:8080/"
        },
        "id": "E2EG08TzD45X",
        "outputId": "9c25021f-82a8-47b0-96e9-a46ccce15c12"
      },
      "execution_count": 7,
      "outputs": [
        {
          "output_type": "stream",
          "name": "stdout",
          "text": [
            "Resultant Dictionary :OrderedDict([('manjeet', '4'), ('akash', '4'), ('akshat', '1'), ('nikhil', '2')])\n"
          ]
        }
      ]
    },
    {
      "cell_type": "code",
      "source": [
        "#6. Write a Python program to check order of character in string using OrderedDict()?\n",
        "def check_order(string, pattern):\n",
        "    i, j = 0, 0\n",
        "    for char in string:\n",
        "        if char == pattern[j]:\n",
        "            j += 1\n",
        "        if j == len(pattern):\n",
        "            return True\n",
        "        i += 1\n",
        " \n",
        "    return False\n",
        "string = 'engineers wala'\n",
        "pattern = 'er'\n",
        "print(check_order(string, pattern))"
      ],
      "metadata": {
        "colab": {
          "base_uri": "https://localhost:8080/"
        },
        "id": "IAgB7fB2Ef9g",
        "outputId": "397e3e80-fc67-416e-f29e-8b9e67ebc0e8"
      },
      "execution_count": 9,
      "outputs": [
        {
          "output_type": "stream",
          "name": "stdout",
          "text": [
            "True\n"
          ]
        }
      ]
    },
    {
      "cell_type": "code",
      "source": [
        "#7. Write a Python program to sort Python Dictionaries by Key or Value?\n",
        "myDict = {'ravi': 10, 'rajnish': 9,\n",
        "        'sanjeev': 15, 'yash': 2, 'suraj': 32}\n",
        " \n",
        "myKeys = list(myDict.keys())\n",
        "myKeys.sort()\n",
        "sorted_dict = {i: myDict[i] for i in myKeys}\n",
        " \n",
        "print(sorted_dict)"
      ],
      "metadata": {
        "colab": {
          "base_uri": "https://localhost:8080/"
        },
        "id": "VjdpmrtPEf5R",
        "outputId": "dda0ee29-f345-43da-d53c-becd5c7ee0cf"
      },
      "execution_count": 10,
      "outputs": [
        {
          "output_type": "stream",
          "name": "stdout",
          "text": [
            "{'rajnish': 9, 'ravi': 10, 'sanjeev': 15, 'suraj': 32, 'yash': 2}\n"
          ]
        }
      ]
    }
  ]
}