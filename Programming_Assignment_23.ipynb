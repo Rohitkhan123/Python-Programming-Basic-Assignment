{
  "nbformat": 4,
  "nbformat_minor": 0,
  "metadata": {
    "colab": {
      "provenance": []
    },
    "kernelspec": {
      "name": "python3",
      "display_name": "Python 3"
    },
    "language_info": {
      "name": "python"
    }
  },
  "cells": [
    {
      "cell_type": "code",
      "source": [
        "# 1.Create a function that takes a number as an argument and returns True or False depending on whether the number is symmetrical or not. A number is symmetrical when it is the same as its reverse.\n",
        "# Examples:\n",
        "# is_symmetrical(7227) ➞ True\n",
        "# is_symmetrical(12567) ➞ False\n",
        "# is_symmetrical(44444444) ➞ True\n",
        "# is_symmetrical(9939) ➞ False\n",
        "# is_symmetrical(1112111) ➞ True\n",
        "\n",
        "\n",
        "\n",
        "def is_symmetrical(in_num):\n",
        "    if str(in_num) == str(in_num)[::-1]:\n",
        "        print(f'{in_num} ➞ {True}')\n",
        "    else:\n",
        "        print(f'{in_num} ➞ {False}')\n",
        "\n",
        "is_symmetrical(7227)\n",
        "is_symmetrical(12567)\n",
        "is_symmetrical(44444444)\n",
        "is_symmetrical(9939)\n",
        "is_symmetrical(1112111)"
      ],
      "metadata": {
        "colab": {
          "base_uri": "https://localhost:8080/"
        },
        "id": "z5nfy_KGecL6",
        "outputId": "12b1f7e6-ddc7-4e3d-8ecd-08cfa4aca2ba"
      },
      "execution_count": 69,
      "outputs": [
        {
          "output_type": "stream",
          "name": "stdout",
          "text": [
            "7227 ➞ True\n",
            "12567 ➞ False\n",
            "44444444 ➞ True\n",
            "9939 ➞ False\n",
            "1112111 ➞ True\n"
          ]
        }
      ]
    },
    {
      "cell_type": "code",
      "source": [
        "# 2.Given a string of numbers separated by a comma and space, return the product of the numbers.\n",
        "# Examples:\n",
        "# multiply_nums(\"2, 3\") ➞ 6\n",
        "# multiply_nums(\"1, 2, 3, 4\") ➞ 24\n",
        "# multiply_nums(\"54, 75, 453, 0\") ➞ 0\n",
        "# multiply_nums(\"10, -2\") ➞ -20\n",
        "\n",
        "\n",
        "\n",
        "def multiply_nums(in_string):\n",
        "    out_string = in_string.replace(' ','').split(',')\n",
        "    out_num = 1\n",
        "    for ele in out_string:\n",
        "        out_num *= int(ele)\n",
        "    print(f'{in_string} ➞ {out_num}')\n",
        "    \n",
        "multiply_nums(\"2, 3\")\n",
        "multiply_nums(\"1, 2, 3, 4\")\n",
        "multiply_nums(\"54, 75, 453, 0\")\n",
        "multiply_nums(\"10, -2\")"
      ],
      "metadata": {
        "colab": {
          "base_uri": "https://localhost:8080/"
        },
        "id": "ZGjdmJ1zecPB",
        "outputId": "7b8f6a44-03a5-447e-aef0-ecd15b120496"
      },
      "execution_count": 70,
      "outputs": [
        {
          "output_type": "stream",
          "name": "stdout",
          "text": [
            "2, 3 ➞ 6\n",
            "1, 2, 3, 4 ➞ 24\n",
            "54, 75, 453, 0 ➞ 0\n",
            "10, -2 ➞ -20\n"
          ]
        }
      ]
    },
    {
      "cell_type": "code",
      "source": [
        "# 3.Create a function that squares every digit of a number.\n",
        "# Examples:\n",
        "# square_digits(9119) ➞ 811181\n",
        "# square_digits(2483) ➞ 416649\n",
        "# square_digits(3212) ➞ 9414\n",
        "\n",
        "# Notes:\n",
        "# The function receives an integer and must return an integer.\n",
        "\n",
        "\n",
        "\n",
        "def square_digits(in_num):\n",
        "    in_list = [str(int(ele)**2) for ele in str(in_num)]\n",
        "    out_list = ''.join(in_list)\n",
        "    print(f'{in_num} ➞ {int(out_list)}')\n",
        "\n",
        "square_digits(9119)\n",
        "square_digits(2483)\n",
        "square_digits(3212)"
      ],
      "metadata": {
        "colab": {
          "base_uri": "https://localhost:8080/"
        },
        "id": "VEzdy86vecSg",
        "outputId": "f4b52e9b-e7db-4018-d0d6-54739cbd20e2"
      },
      "execution_count": 71,
      "outputs": [
        {
          "output_type": "stream",
          "name": "stdout",
          "text": [
            "9119 ➞ 811181\n",
            "2483 ➞ 416649\n",
            "3212 ➞ 9414\n"
          ]
        }
      ]
    },
    {
      "cell_type": "code",
      "source": [
        "# 4.Create a function that sorts a list and removes all duplicate items from it.\n",
        "# Examples:\n",
        "# setify([1, 3, 3, 5, 5]) ➞ [1, 3, 5]\n",
        "# setify([4, 4, 4, 4]) ➞ [4]\n",
        "# setify([5, 7, 8, 9, 10, 15]) ➞ [5, 7, 8, 9, 10, 15]\n",
        "# setify([3, 3, 3, 2, 1]) ➞ [1, 2, 3]\n",
        "\n",
        "\n",
        "def setify(in_list):\n",
        "    out_list = sorted(set(in_list))\n",
        "    print(f'{in_list} ➞ {out_list}')\n",
        "    \n",
        "setify([1, 3, 3, 5, 5]) \n",
        "setify([4, 4, 4, 4])\n",
        "setify([5, 7, 8, 9, 10, 15])\n",
        "setify([3, 3, 3, 2, 1])"
      ],
      "metadata": {
        "colab": {
          "base_uri": "https://localhost:8080/"
        },
        "id": "vbfnS4UuecU0",
        "outputId": "d3b472a2-6155-4a14-ae35-0de81dd5e934"
      },
      "execution_count": 72,
      "outputs": [
        {
          "output_type": "stream",
          "name": "stdout",
          "text": [
            "[1, 3, 3, 5, 5] ➞ [1, 3, 5]\n",
            "[4, 4, 4, 4] ➞ [4]\n",
            "[5, 7, 8, 9, 10, 15] ➞ [5, 7, 8, 9, 10, 15]\n",
            "[3, 3, 3, 2, 1] ➞ [1, 2, 3]\n"
          ]
        }
      ]
    },
    {
      "cell_type": "code",
      "source": [
        "# 5.Create a function that returns the mean of all digits.\n",
        "# Examples:\n",
        "# mean(42) ➞ 3\n",
        "# mean(12345) ➞ 3\n",
        "# mean(666) ➞ 6\n",
        "\n",
        "# Notes:\n",
        "# 1.The mean of all digits is the sum of digits / how many digits there are (e.g. mean of digits in 512 is (5+1+2)/3(number of digits) = 8/3=2).\n",
        "# 2.The mean will always be an integer.\n",
        "\n",
        "\n",
        "\n",
        "\n",
        "def mean(in_num):\n",
        "    in_list = [int(ele) for ele in str(in_num)]\n",
        "    out_num = sum(in_list)/len(str(in_num))\n",
        "    print(f'Mean of {in_num}  ➞ {out_num:.0f}')\n",
        "    \n",
        "mean(42)\n",
        "mean(12345)\n",
        "mean(666)"
      ],
      "metadata": {
        "colab": {
          "base_uri": "https://localhost:8080/"
        },
        "id": "eb2b9ImKecYX",
        "outputId": "8a75496e-1439-4db4-a318-3b3436672802"
      },
      "execution_count": 73,
      "outputs": [
        {
          "output_type": "stream",
          "name": "stdout",
          "text": [
            "Mean of 42  ➞ 3\n",
            "Mean of 12345  ➞ 3\n",
            "Mean of 666  ➞ 6\n"
          ]
        }
      ]
    }
  ]
}