{
 "cells": [
  {
   "cell_type": "markdown",
   "id": "ce72bd97",
   "metadata": {},
   "source": [
    "### 1. Write a Python program to find sum of elements in list?"
   ]
  },
  {
   "cell_type": "code",
   "execution_count": 22,
   "id": "ea46da39",
   "metadata": {},
   "outputs": [],
   "source": [
    "def elesum(a):\n",
    "    sm=0\n",
    "    for i in a:\n",
    "        sm=sm+i\n",
    "    return sm"
   ]
  },
  {
   "cell_type": "code",
   "execution_count": 23,
   "id": "e382503c",
   "metadata": {},
   "outputs": [
    {
     "data": {
      "text/plain": [
       "15"
      ]
     },
     "execution_count": 23,
     "metadata": {},
     "output_type": "execute_result"
    }
   ],
   "source": [
    "l=[2,3,4,5,1]\n",
    "elesum(l)"
   ]
  },
  {
   "cell_type": "markdown",
   "id": "10de4ff0",
   "metadata": {},
   "source": [
    "### 2. Write a Python program to Multiply all numbers in the list?"
   ]
  },
  {
   "cell_type": "code",
   "execution_count": 31,
   "id": "62e1c08f",
   "metadata": {},
   "outputs": [],
   "source": [
    "def elemul(a):\n",
    "    i=0\n",
    "    ml=1\n",
    "    while i<len(a):\n",
    "        ml=ml*a[i]\n",
    "        i=i+1\n",
    "    return ml"
   ]
  },
  {
   "cell_type": "code",
   "execution_count": 32,
   "id": "bf25cea1",
   "metadata": {},
   "outputs": [
    {
     "data": {
      "text/plain": [
       "12"
      ]
     },
     "execution_count": 32,
     "metadata": {},
     "output_type": "execute_result"
    }
   ],
   "source": [
    "a=[2,3,1,2]\n",
    "elemul(a)"
   ]
  },
  {
   "cell_type": "markdown",
   "id": "a8df7ad1",
   "metadata": {},
   "source": [
    "### 3. Write a Python program to find smallest number in a list?"
   ]
  },
  {
   "cell_type": "code",
   "execution_count": 62,
   "id": "70958096",
   "metadata": {},
   "outputs": [
    {
     "name": "stdout",
     "output_type": "stream",
     "text": [
      "1\n"
     ]
    }
   ],
   "source": [
    "from functools import reduce\n",
    "l=[66,1,22,11,23,44]\n",
    "print(reduce(min,l))"
   ]
  },
  {
   "cell_type": "markdown",
   "id": "6318776d",
   "metadata": {},
   "source": [
    "### 4. Write a Python program to find largest number in a list?"
   ]
  },
  {
   "cell_type": "code",
   "execution_count": 63,
   "id": "9e82352f",
   "metadata": {},
   "outputs": [
    {
     "name": "stdout",
     "output_type": "stream",
     "text": [
      "66\n"
     ]
    }
   ],
   "source": [
    "from functools import reduce\n",
    "print(reduce(max,l))"
   ]
  },
  {
   "cell_type": "markdown",
   "id": "051d855a",
   "metadata": {},
   "source": [
    "### 5. Write a Python program to find second largest number in a list?"
   ]
  },
  {
   "cell_type": "code",
   "execution_count": 4,
   "id": "c957121c",
   "metadata": {},
   "outputs": [],
   "source": [
    "def sndlar(l):\n",
    "    a=list(set(l))\n",
    "    a.sort()\n",
    "    return a[-2]\n",
    "    \n",
    "    "
   ]
  },
  {
   "cell_type": "code",
   "execution_count": 5,
   "id": "c50dd514",
   "metadata": {},
   "outputs": [
    {
     "data": {
      "text/plain": [
       "12"
      ]
     },
     "execution_count": 5,
     "metadata": {},
     "output_type": "execute_result"
    }
   ],
   "source": [
    "sndlar([2,1,2,21,1,12,2,3])"
   ]
  },
  {
   "cell_type": "markdown",
   "id": "18838e90",
   "metadata": {},
   "source": [
    "### 6. Write a Python program to find N largest elements from a list?"
   ]
  },
  {
   "cell_type": "code",
   "execution_count": 12,
   "id": "9246cf67",
   "metadata": {},
   "outputs": [
    {
     "name": "stdout",
     "output_type": "stream",
     "text": [
      "[298, 900, 1000, 3579]\n"
     ]
    }
   ],
   "source": [
    "l = [1000,298,3579,100,200,-45,900]\n",
    "n = 4\n",
    " \n",
    "l.sort()\n",
    "print(l[-n:])"
   ]
  },
  {
   "cell_type": "markdown",
   "id": "b5d64216",
   "metadata": {},
   "source": [
    "### 7. Write a Python program to print even numbers in a list?"
   ]
  },
  {
   "cell_type": "code",
   "execution_count": 30,
   "id": "ed6c35f9",
   "metadata": {},
   "outputs": [],
   "source": [
    "def even(l):\n",
    "    for i in l:\n",
    "        if i%2 !=1:\n",
    "            print(i)"
   ]
  },
  {
   "cell_type": "code",
   "execution_count": 31,
   "id": "5f564845",
   "metadata": {},
   "outputs": [
    {
     "name": "stdout",
     "output_type": "stream",
     "text": [
      "6\n",
      "76\n",
      "8\n",
      "22\n",
      "94\n"
     ]
    }
   ],
   "source": [
    "l=[6,5,76,8,9,77,91,22,94]\n",
    "even(l)"
   ]
  },
  {
   "cell_type": "markdown",
   "id": "92fa0ba4",
   "metadata": {},
   "source": [
    "### 8. Write a Python program to print odd numbers in a List?"
   ]
  },
  {
   "cell_type": "code",
   "execution_count": 32,
   "id": "0fe94de1",
   "metadata": {},
   "outputs": [],
   "source": [
    "def odd(l):\n",
    "    i=0\n",
    "    while i<=len(l)-1:\n",
    "        if l[i]%2==1:\n",
    "            print(l[i])\n",
    "        i+=1"
   ]
  },
  {
   "cell_type": "code",
   "execution_count": 33,
   "id": "f2bbd232",
   "metadata": {},
   "outputs": [
    {
     "name": "stdout",
     "output_type": "stream",
     "text": [
      "5\n",
      "9\n",
      "77\n",
      "91\n"
     ]
    }
   ],
   "source": [
    "odd(l)"
   ]
  },
  {
   "cell_type": "markdown",
   "id": "ed652eee",
   "metadata": {},
   "source": [
    "### 9. Write a Python program to Remove empty List from List?"
   ]
  },
  {
   "cell_type": "code",
   "execution_count": 34,
   "id": "ee4f1303",
   "metadata": {},
   "outputs": [],
   "source": [
    "def rmv_empt_lst(l):\n",
    "    for i in l:\n",
    "        if i !=[]:\n",
    "            print(i)\n",
    "        "
   ]
  },
  {
   "cell_type": "code",
   "execution_count": 35,
   "id": "4ffbabbe",
   "metadata": {},
   "outputs": [
    {
     "name": "stdout",
     "output_type": "stream",
     "text": [
      "5\n",
      "6\n",
      "3\n",
      "9\n"
     ]
    }
   ],
   "source": [
    "l= [5, 6, [], 3, [], [], 9]\n",
    "rmv_empt_lst(l)"
   ]
  },
  {
   "cell_type": "markdown",
   "id": "55777c34",
   "metadata": {},
   "source": [
    "### 10. Write a Python program to Cloning or Copying a list?"
   ]
  },
  {
   "cell_type": "code",
   "execution_count": 43,
   "id": "f31c3581",
   "metadata": {},
   "outputs": [],
   "source": [
    "import copy\n",
    "def copy_list(l):\n",
    "    a=copy.copy(l)\n",
    "    return a"
   ]
  },
  {
   "cell_type": "code",
   "execution_count": 44,
   "id": "533155bb",
   "metadata": {},
   "outputs": [
    {
     "data": {
      "text/plain": [
       "[2, 3, 2]"
      ]
     },
     "execution_count": 44,
     "metadata": {},
     "output_type": "execute_result"
    }
   ],
   "source": [
    "l=[2,3,2]\n",
    "copy_list(l)"
   ]
  },
  {
   "cell_type": "markdown",
   "id": "c013335c",
   "metadata": {},
   "source": [
    "### 11. Write a Python program to Count occurrences of an element in a list?"
   ]
  },
  {
   "cell_type": "code",
   "execution_count": 51,
   "id": "835aefe9",
   "metadata": {},
   "outputs": [],
   "source": [
    "def count_lst(l):\n",
    "    i=0\n",
    "    count=0\n",
    "    while i<=len(l)-1:\n",
    "        count=count+1\n",
    "        i+=1\n",
    "    return count\n",
    "        \n",
    "        "
   ]
  },
  {
   "cell_type": "code",
   "execution_count": 53,
   "id": "2c6f24c5",
   "metadata": {},
   "outputs": [
    {
     "data": {
      "text/plain": [
       "8"
      ]
     },
     "execution_count": 53,
     "metadata": {},
     "output_type": "execute_result"
    }
   ],
   "source": [
    "l=[1,2,3,4,5,'e','w',3]\n",
    "count_lst(l)"
   ]
  }
 ],
 "metadata": {
  "kernelspec": {
   "display_name": "Python 3 (ipykernel)",
   "language": "python",
   "name": "python3"
  },
  "language_info": {
   "codemirror_mode": {
    "name": "ipython",
    "version": 3
   },
   "file_extension": ".py",
   "mimetype": "text/x-python",
   "name": "python",
   "nbconvert_exporter": "python",
   "pygments_lexer": "ipython3",
   "version": "3.9.13"
  }
 },
 "nbformat": 4,
 "nbformat_minor": 5
}
