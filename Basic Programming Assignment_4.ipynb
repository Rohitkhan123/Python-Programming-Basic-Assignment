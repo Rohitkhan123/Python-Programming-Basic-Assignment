{
 "cells": [
  {
   "cell_type": "markdown",
   "id": "19108348",
   "metadata": {},
   "source": [
    "### assignment 4"
   ]
  },
  {
   "cell_type": "markdown",
   "id": "93a99fa5",
   "metadata": {},
   "source": [
    "##### ques 1.Write a Python Program to find the factorial of a number ?"
   ]
  },
  {
   "cell_type": "code",
   "execution_count": 6,
   "id": "e2cbb49e",
   "metadata": {},
   "outputs": [
    {
     "name": "stdout",
     "output_type": "stream",
     "text": [
      "enter your number : 5\n",
      "the factorial of  5 is 120\n"
     ]
    }
   ],
   "source": [
    "number =int(input(\"enter your number : \"))\n",
    "factorial=1\n",
    "if number<0:\n",
    "    print(\"foctorial is not for negative number \")\n",
    "elif number ==0:\n",
    "    print(\"the factorial 0 is 1: \")\n",
    "else:\n",
    "    for i in range(1,number+1):\n",
    "        factorial=factorial * i\n",
    "    print(\"the factorial of \",number ,\"is\",factorial)"
   ]
  },
  {
   "cell_type": "markdown",
   "id": "d41faeee",
   "metadata": {},
   "source": [
    "##### ques 2.Write a Python Program to Display the multiplication Table?"
   ]
  },
  {
   "cell_type": "code",
   "execution_count": 8,
   "id": "2badea67",
   "metadata": {},
   "outputs": [
    {
     "name": "stdout",
     "output_type": "stream",
     "text": [
      "enter your number for table: 12\n",
      "12 x 1 = 12\n",
      "12 x 2 = 24\n",
      "12 x 3 = 36\n",
      "12 x 4 = 48\n",
      "12 x 5 = 60\n",
      "12 x 6 = 72\n",
      "12 x 7 = 84\n",
      "12 x 8 = 96\n",
      "12 x 9 = 108\n",
      "12 x 10 = 120\n"
     ]
    }
   ],
   "source": [
    "number=int(input(\"enter your number for table: \"))\n",
    "for i in range(1,11):\n",
    "    print(number,\"x\",i ,\"=\",number*i)"
   ]
  },
  {
   "cell_type": "markdown",
   "id": "9fe523f0",
   "metadata": {},
   "source": [
    "##### ques 3.Write a Python Program to print the fibonacci sequence ?"
   ]
  },
  {
   "cell_type": "code",
   "execution_count": 1,
   "id": "844bd9ec",
   "metadata": {},
   "outputs": [
    {
     "name": "stdout",
     "output_type": "stream",
     "text": [
      "enter your number :10\n",
      "0\n",
      "1\n",
      "1\n",
      "2\n",
      "3\n",
      "5\n",
      "8\n",
      "13\n",
      "21\n",
      "34\n"
     ]
    }
   ],
   "source": [
    "fib=int(input(\"enter your number :\"))\n",
    "a=-1\n",
    "b=1\n",
    "if fib==0:\n",
    "    print(\"enter the positive value \")\n",
    "else:\n",
    "        for i in range(1,fib+1):\n",
    "            c=a+b\n",
    "            print(c)\n",
    "            a=b\n",
    "            b=c"
   ]
  },
  {
   "cell_type": "markdown",
   "id": "afe2083a",
   "metadata": {},
   "source": [
    "##### 4. Write a Python Program to Check Armstrong Number?"
   ]
  },
  {
   "cell_type": "code",
   "execution_count": 22,
   "id": "9064a4c7",
   "metadata": {},
   "outputs": [
    {
     "name": "stdout",
     "output_type": "stream",
     "text": [
      "Enter your number: 371\n",
      "armstrong number\n"
     ]
    }
   ],
   "source": [
    "n=int(input(\"Enter your number: \"))\n",
    "# for n in range(1,10):\n",
    "#     print(\"this is armstrong number\")\n",
    "order=len(str(n))\n",
    "sum=0\n",
    "origin=n\n",
    "while n>0:\n",
    "    digit=n%10\n",
    "    sum+=digit**order\n",
    "    n=n//10\n",
    "if sum==origin:\n",
    "    print(\"armstrong number\")\n",
    "else:\n",
    "    print(\"this is not armstrong number:\")\n"
   ]
  },
  {
   "cell_type": "markdown",
   "id": "8a821017",
   "metadata": {},
   "source": [
    "##### 5. Write a Python Program to Find Armstrong Number in an Interval?"
   ]
  },
  {
   "cell_type": "code",
   "execution_count": 35,
   "id": "8d155569",
   "metadata": {},
   "outputs": [
    {
     "name": "stdout",
     "output_type": "stream",
     "text": [
      "enter lower value1\n",
      "enter upper value2000\n",
      "1\n",
      "2\n",
      "3\n",
      "4\n",
      "5\n",
      "6\n",
      "7\n",
      "8\n",
      "9\n",
      "153\n",
      "370\n",
      "371\n",
      "407\n",
      "1634\n"
     ]
    }
   ],
   "source": [
    "lower = int(input(\"enter lower value\"))\n",
    "upper =int(input(\"enter upper value\"))\n",
    "\n",
    "for num in range(lower, upper + 1):\n",
    "\n",
    "   order = len(str(num))\n",
    "    \n",
    "   sum = 0\n",
    "\n",
    "   temp = num\n",
    "   while temp > 0:\n",
    "       digit = temp % 10\n",
    "       sum += digit ** order\n",
    "       temp //= 10\n",
    "\n",
    "   if num == sum:\n",
    "       print(num)\n"
   ]
  },
  {
   "cell_type": "markdown",
   "id": "dac780da",
   "metadata": {},
   "source": [
    "##### 6. Write a Python Program to Find the Sum of Natural Numbers?"
   ]
  },
  {
   "cell_type": "code",
   "execution_count": 37,
   "id": "98fe1926",
   "metadata": {},
   "outputs": [
    {
     "name": "stdout",
     "output_type": "stream",
     "text": [
      "Enter your natural number: 3\n",
      "your sum is : 6\n"
     ]
    }
   ],
   "source": [
    "n=int(input(\"Enter your natural number: \"))\n",
    "sum=0\n",
    "i=1\n",
    "while(i<=n):\n",
    "    sum+=i\n",
    "    i+=1\n",
    "print(\"your sum is :\",sum)"
   ]
  }
 ],
 "metadata": {
  "kernelspec": {
   "display_name": "Python 3 (ipykernel)",
   "language": "python",
   "name": "python3"
  },
  "language_info": {
   "codemirror_mode": {
    "name": "ipython",
    "version": 3
   },
   "file_extension": ".py",
   "mimetype": "text/x-python",
   "name": "python",
   "nbconvert_exporter": "python",
   "pygments_lexer": "ipython3",
   "version": "3.9.7"
  }
 },
 "nbformat": 4,
 "nbformat_minor": 5
}
