{
 "cells": [
  {
   "cell_type": "markdown",
   "id": "e6532920",
   "metadata": {},
   "source": [
    "### assignment 1"
   ]
  },
  {
   "cell_type": "markdown",
   "id": "b91892d9",
   "metadata": {},
   "source": [
    "##### ques 1.Write a Python program to print 'Hello Python' ?"
   ]
  },
  {
   "cell_type": "code",
   "execution_count": 1,
   "id": "17a44693",
   "metadata": {},
   "outputs": [
    {
     "name": "stdout",
     "output_type": "stream",
     "text": [
      "hello python\n"
     ]
    }
   ],
   "source": [
    "print(\"hello python\")"
   ]
  },
  {
   "cell_type": "markdown",
   "id": "deace1f0",
   "metadata": {},
   "source": [
    "##### ques 2.Write a Python program to do arithmetical operations addition and division.?"
   ]
  },
  {
   "cell_type": "code",
   "execution_count": 3,
   "id": "5f3288d0",
   "metadata": {},
   "outputs": [
    {
     "name": "stdout",
     "output_type": "stream",
     "text": [
      " Please Enter the First Value Number 1: 12\n",
      " Please Enter the Second Value Number 2: 12\n",
      "The Sum of 12.0 and 12.0 = 24.0\n",
      "The Subtraction of 12.0 from 12.0 = 0.0\n",
      "The Multiplication of 12.0 and 12.0 = 144.0\n",
      "The Division of 12.0 and 12.0 = 1.0\n",
      "The Modulus of 12.0 and 12.0 = 0.0\n",
      "The Exponent Value of 12.0 and 12.0 = 8916100448256.0\n"
     ]
    }
   ],
   "source": [
    "num1 = float(input(\" Please Enter the First Value Number 1: \"))\n",
    "num2 = float(input(\" Please Enter the Second Value Number 2: \"))\n",
    "\n",
    "# Add Two Numbers\n",
    "add = num1 + num2\n",
    "\n",
    "# Subtracting num2 from num1\n",
    "sub = num1 - num2\n",
    "\n",
    "# Multiply num1 with num2\n",
    "multi = num1 * num2\n",
    "\n",
    "# Divide num1 by num2\n",
    "div = num1 / num2\n",
    "\n",
    "# Modulus of num1 and num2\n",
    "mod = num1 % num2\n",
    "\n",
    "# Exponent of num1 and num2\n",
    "expo = num1 ** num2\n",
    "\n",
    "print(\"The Sum of {0} and {1} = {2}\".format(num1, num2, add))\n",
    "print(\"The Subtraction of {0} from {1} = {2}\".format(num2, num1, sub))\n",
    "print(\"The Multiplication of {0} and {1} = {2}\".format(num1, num2, multi))\n",
    "print(\"The Division of {0} and {1} = {2}\".format(num1, num2, div))\n",
    "print(\"The Modulus of {0} and {1} = {2}\".format(num1, num2, mod))\n",
    "print(\"The Exponent Value of {0} and {1} = {2}\".format(num1, num2, expo))"
   ]
  },
  {
   "cell_type": "code",
   "execution_count": 5,
   "id": "bbf06c6d",
   "metadata": {},
   "outputs": [
    {
     "name": "stdout",
     "output_type": "stream",
     "text": [
      "enter your first side 10\n",
      "enter your second  side 10\n",
      "enter your third side 10\n",
      "The area of the triangle is 43.30\n"
     ]
    }
   ],
   "source": [
    "a= float(input (\"enter your first side \"))\n",
    "b= float(input (\"enter your second  side \"))\n",
    "c= float(input (\"enter your third side \"))\n",
    "\n",
    "s = (a + b + c) / 2  \n",
    "   \n",
    "area = (s*(s-a)*(s-b)*(s-c)) ** 0.5  \n",
    "print('The area of the triangle is %0.2f' %area)"
   ]
  },
  {
   "cell_type": "markdown",
   "id": "9632d398",
   "metadata": {},
   "source": [
    "##### ques 4.Write a Python program to swap two variables?"
   ]
  },
  {
   "cell_type": "code",
   "execution_count": 8,
   "id": "8b402041",
   "metadata": {},
   "outputs": [
    {
     "name": "stdout",
     "output_type": "stream",
     "text": [
      "enter your number 7\n",
      "enter your 2nd number 8\n",
      "Value of x: 8\n",
      "Value of y: 7\n"
     ]
    }
   ],
   "source": [
    "x = (int(input (\"enter your number \")))\n",
    "y = int(input(\"enter your 2nd number \"))\n",
    "\n",
    "\n",
    "swap = x\n",
    "x = y\n",
    "y = swap\n",
    "\n",
    "print(\"Value of x:\", x)\n",
    "print(\"Value of y:\", y)\n"
   ]
  },
  {
   "cell_type": "markdown",
   "id": "f9e955fc",
   "metadata": {},
   "source": [
    "##### ques 5.Write a Python program to generate a random number ?"
   ]
  },
  {
   "cell_type": "code",
   "execution_count": 12,
   "id": "2cbea51b",
   "metadata": {},
   "outputs": [
    {
     "name": "stdout",
     "output_type": "stream",
     "text": [
      "2\n"
     ]
    }
   ],
   "source": [
    "import random  \n",
    "n = random.randint(0,50)  \n",
    "print(n)"
   ]
  },
  {
   "cell_type": "code",
   "execution_count": null,
   "id": "fab6364a",
   "metadata": {},
   "outputs": [],
   "source": []
  },
  {
   "cell_type": "code",
   "execution_count": null,
   "id": "c7452a81",
   "metadata": {},
   "outputs": [],
   "source": []
  }
 ],
 "metadata": {
  "kernelspec": {
   "display_name": "Python 3 (ipykernel)",
   "language": "python",
   "name": "python3"
  },
  "language_info": {
   "codemirror_mode": {
    "name": "ipython",
    "version": 3
   },
   "file_extension": ".py",
   "mimetype": "text/x-python",
   "name": "python",
   "nbconvert_exporter": "python",
   "pygments_lexer": "ipython3",
   "version": "3.9.7"
  }
 },
 "nbformat": 4,
 "nbformat_minor": 5
}
