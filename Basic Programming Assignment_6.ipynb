{
 "cells": [
  {
   "cell_type": "markdown",
   "id": "c2f89bc4",
   "metadata": {},
   "source": [
    "## assignment 6"
   ]
  },
  {
   "cell_type": "markdown",
   "id": "c1ccc27c",
   "metadata": {},
   "source": [
    "##### 1. Write a Python Program to Display Fibonacci Sequence using Recursion ?"
   ]
  },
  {
   "cell_type": "code",
   "execution_count": 5,
   "id": "c9ff6cb0",
   "metadata": {},
   "outputs": [
    {
     "name": "stdout",
     "output_type": "stream",
     "text": [
      "Enter your number:6\n",
      "1\n",
      "1\n",
      "2\n",
      "3\n",
      "5\n",
      "8\n"
     ]
    }
   ],
   "source": [
    "def fibo(n):\n",
    "    if n==0 or n==1:\n",
    "        return n\n",
    "    return fibo(n-1)+ fibo(n-2)\n",
    "n=int(input(\"Enter your number:\"))\n",
    "for i in range(1,n+1):\n",
    "    print(fibo(i))"
   ]
  },
  {
   "cell_type": "markdown",
   "id": "ec3a51d9",
   "metadata": {},
   "source": [
    "##### 2. Write a Python Program to Find Factorial of a Number using Recursion ?\n"
   ]
  },
  {
   "cell_type": "code",
   "execution_count": 6,
   "id": "bcb7b7cf",
   "metadata": {},
   "outputs": [
    {
     "name": "stdout",
     "output_type": "stream",
     "text": [
      "enter your number:5\n",
      "120\n"
     ]
    }
   ],
   "source": [
    "def fact(n):\n",
    "    if n==1:\n",
    "        return n\n",
    "    else:\n",
    "        return n*fact(n-1)\n",
    "n=int(input(\"enter your number:\"))\n",
    "print(fact(n))"
   ]
  },
  {
   "cell_type": "markdown",
   "id": "1626c42a",
   "metadata": {},
   "source": [
    "##### 3. Write a Python Program to Calculate your Body Mass Index "
   ]
  },
  {
   "cell_type": "code",
   "execution_count": 15,
   "id": "1f21917f",
   "metadata": {},
   "outputs": [
    {
     "name": "stdout",
     "output_type": "stream",
     "text": [
      "Enter your height in (centimeter):150\n",
      "Ener your weight in (kilograms):42\n",
      "your BMI is 18.666666666666668 and Healthy\n"
     ]
    }
   ],
   "source": [
    "def calculateBMI():\n",
    "    height=float(input(\"Enter your height in (centimeter):\"))\n",
    "    weight=float(input(\"Ener your weight in (kilograms):\"))\n",
    "    height=height/100\n",
    "    bmi=weight/(height**2)\n",
    "    if bmi>0:\n",
    "    \n",
    "        if (bmi < 18.5):\n",
    "            result=\"underweight\"\n",
    "\n",
    "        elif ( bmi >= 18.5 and bmi < 24.9):\n",
    "            result=\"Healthy\"\n",
    "\n",
    "        elif ( bmi >= 24.9 and bmi < 30):\n",
    "            result=\"overweight\"\n",
    "            \n",
    "        elif ( bmi >=30):\n",
    "            result=\"Suffering from Obesity\"\n",
    "    else:\n",
    "        result=\"Enter correct value\"\n",
    "    print(f\"your BMI is {bmi} and {result}\")\n",
    "    \n",
    "calculateBMI()\n"
   ]
  },
  {
   "cell_type": "markdown",
   "id": "8665c415",
   "metadata": {},
   "source": [
    "##### 4. Write a Python Program to Calculate the Natural Logarithm of any Number "
   ]
  },
  {
   "cell_type": "code",
   "execution_count": 18,
   "id": "cdd4619b",
   "metadata": {},
   "outputs": [
    {
     "name": "stdout",
     "output_type": "stream",
     "text": [
      "Enter a Number:14\n",
      "2.6390573296152584\n"
     ]
    }
   ],
   "source": [
    "import math\n",
    "def genNatLog():\n",
    "    num = eval(input(\"Enter a Number:\"))\n",
    "    print(math.log(num))\n",
    "genNatLog()"
   ]
  },
  {
   "cell_type": "markdown",
   "id": "d36c031a",
   "metadata": {},
   "source": [
    "##### 5. Write a Python Program for Cube sum of first n Natural Numbers ?"
   ]
  },
  {
   "cell_type": "code",
   "execution_count": 22,
   "id": "603434d9",
   "metadata": {},
   "outputs": [
    {
     "name": "stdout",
     "output_type": "stream",
     "text": [
      "Enter your number3\n",
      "your result is  36\n"
     ]
    }
   ],
   "source": [
    "n=int(input(\"Enter your number\"))\n",
    "sum=0\n",
    "for i in range(1,n+1):\n",
    "    sum+=i*i*i\n",
    "print(\"your result is \",sum)\n"
   ]
  }
 ],
 "metadata": {
  "kernelspec": {
   "display_name": "Python 3 (ipykernel)",
   "language": "python",
   "name": "python3"
  },
  "language_info": {
   "codemirror_mode": {
    "name": "ipython",
    "version": 3
   },
   "file_extension": ".py",
   "mimetype": "text/x-python",
   "name": "python",
   "nbconvert_exporter": "python",
   "pygments_lexer": "ipython3",
   "version": "3.9.7"
  }
 },
 "nbformat": 4,
 "nbformat_minor": 5
}
